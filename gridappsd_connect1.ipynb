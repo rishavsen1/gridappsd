{
 "cells": [
  {
   "cell_type": "code",
   "execution_count": 340,
   "id": "f1c88c6b",
   "metadata": {},
   "outputs": [],
   "source": [
    "import json\n",
    "from gridappsd.simulation import Simulation # Import Simulation Library\n",
    "from gridappsd import GridAPPSD\n",
    "import time\n",
    "from gridappsd.topics import simulation_input_topic\n",
    "from gridappsd import topics as t\n"
   ]
  },
  {
   "cell_type": "code",
   "execution_count": 341,
   "id": "b5e496f1",
   "metadata": {},
   "outputs": [],
   "source": [
    "username = \"system\"\n",
    "password = \"manager\"\n",
    "\n",
    "# Note: there are other parameters for connecting to\n",
    "# systems other than localhost\n",
    "gapps = GridAPPSD(username=username, password=password)\n"
   ]
  },
  {
   "cell_type": "markdown",
   "id": "f6a066e1",
   "metadata": {},
   "source": [
    "checking for connection to gridappsd"
   ]
  },
  {
   "cell_type": "code",
   "execution_count": 342,
   "id": "3365907b",
   "metadata": {},
   "outputs": [],
   "source": [
    "assert gapps.connected"
   ]
  },
  {
   "cell_type": "markdown",
   "id": "0386bdf2",
   "metadata": {},
   "source": [
    "adding the run_config for simulation setup"
   ]
  },
  {
   "cell_type": "code",
   "execution_count": 204,
   "id": "0789933c",
   "metadata": {},
   "outputs": [],
   "source": [
    "run123_config = json.load(open(\"Run123NodeFileSimAPI.json\")) # Pull simulation start message from saved file"
   ]
  },
  {
   "cell_type": "code",
   "execution_count": 205,
   "id": "a9a2df43",
   "metadata": {},
   "outputs": [
    {
     "name": "stdout",
     "output_type": "stream",
     "text": [
      "Successfully started simulation with simulation_id:  1835457202\n"
     ]
    }
   ],
   "source": [
    "simulation_obj = Simulation(gapps, run123_config) # Create Simulation object\n",
    "simulation_obj.start_simulation() # Start Simulation\n",
    "\n",
    "simulation_id = simulation_obj.simulation_id # Obtain Simulation ID\n",
    "print(\"Successfully started simulation with simulation_id: \", simulation_id)"
   ]
  },
  {
   "cell_type": "markdown",
   "id": "7b3606cc",
   "metadata": {},
   "source": [
    "taking simulation id from the sim itself, or externally provided"
   ]
  },
  {
   "cell_type": "code",
   "execution_count": 343,
   "id": "f7659706",
   "metadata": {},
   "outputs": [],
   "source": [
    "# viz_simulation_id = simulation_id\n",
    "viz_simulation_id = 841527766\n",
    "topic = simulation_input_topic(viz_simulation_id)\n"
   ]
  },
  {
   "cell_type": "markdown",
   "id": "cef58009",
   "metadata": {},
   "source": [
    "start, stop or resume"
   ]
  },
  {
   "cell_type": "code",
   "execution_count": null,
   "id": "04607123",
   "metadata": {},
   "outputs": [],
   "source": [
    "ch = int(input())\n",
    "if ch == 1:\n",
    "    message = {\"command\": \"pause\"}\n",
    "    gapps.send(topic, message)\n",
    "elif ch == 2:\n",
    "    message = {\"command\": \"resume\"}\n",
    "    gapps.send(topic, message)\n",
    "elif ch == 3:\n",
    "    message = {\"command\": \"stop\"}\n",
    "    gapps.send(topic, message)\n",
    "\n",
    "else:\n",
    "    exit()"
   ]
  },
  {
   "cell_type": "markdown",
   "id": "66ec3fee",
   "metadata": {},
   "source": [
    "Taking Measurements "
   ]
  },
  {
   "cell_type": "code",
   "execution_count": null,
   "id": "9db48bc3",
   "metadata": {},
   "outputs": [],
   "source": [
    "message = {\n",
    "    \"modelId\": model_mrid,\n",
    "    \"requestType\": \"QUERY_OBJECT_MEASUREMENTS\",\n",
    "    \"resultFormat\": \"JSON\",\n",
    "    \"objectType\": \"LinearShuntCompensator\"\n",
    "}\n",
    "\n",
    "response_obj = gapps.get_response(t.REQUEST_POWERGRID_DATA, message) # Pass query to PowerGrid Models API\n",
    "measurements_obj = response_obj[\"data\"]\n",
    "print(measurements_obj)\n",
    "global Pos_obj # Define global python dictionary of position measurements\n",
    "Pos_obj = [k for k in measurements_obj if k['type'] == 'Pos'] # Filter measurements to just switch positions\n",
    "\n",
    "print(Pos_obj) # Print switch position measurement mRID for first switch"
   ]
  },
  {
   "cell_type": "code",
   "execution_count": 344,
   "id": "e57bbe42",
   "metadata": {},
   "outputs": [
    {
     "name": "stdout",
     "output_type": "stream",
     "text": [
      "{'Diffuse': 5.1879076, 'AvgWindSpeed': 6.6437, 'TowerRH': 36.9, 'long': '105.18 W', 'MST': '14:01', 'TowerDryBulbTemp': 30.0326, 'DATE': '1/1/2013', 'DirectCH1': 86.69558059999999, 'GlobalCM22': 37.990990499999995, 'AvgWindDirection': 115.4, 'time': 1357048860, 'place': 'Solar Radiation Research Laboratory', 'lat': '39.74 N'}\n"
     ]
    }
   ],
   "source": [
    "# Use queryFilter of \"startTime\" and \"endTime\"\n",
    "message = {\n",
    "    \"queryMeasurement\":\"weather\",\n",
    "    \"queryFilter\":{\"startTime\":\"1357048800000000\",\n",
    "                   \"endTime\":\"1357048860000000\"},\n",
    "    \"responseFormat\":\"JSON\"\n",
    "}\n",
    "\n",
    "response_obj = gapps.get_response(t.TIMESERIES, message) # Pass query to Timeseries API\n",
    "weather_obj = response_obj[\"data\"]\n",
    "\n",
    "print(weather_obj[1]) # Print first line of weather data"
   ]
  },
  {
   "cell_type": "markdown",
   "id": "ba0cb80b",
   "metadata": {},
   "source": [
    "subscribing to output"
   ]
  },
  {
   "cell_type": "code",
   "execution_count": 354,
   "id": "849104b5",
   "metadata": {},
   "outputs": [],
   "source": [
    "def demoSubscription1(header, message):\n",
    "    # Extract time and measurement values from message\n",
    "    timestamp = message[\"message\"][\"timestamp\"]\n",
    "    meas_value = message[\"message\"][\"measurements\"]\n",
    "\n",
    "    meas_mrid = list(meas_value.keys()) #obtain list of all mrid from message\n",
    "\n",
    "    # Filter to measurements with value of zero\n",
    "    open_switches = []\n",
    "    for index in Pos_obj:\n",
    "        if index[\"measid\"] in meas_value:\n",
    "            mrid = index[\"measid\"]\n",
    "            power = meas_value[mrid]\n",
    "            if power[\"value\"] == 0:\n",
    "                open_switches.append(index[\"eqname\"])\n",
    "\n",
    "    # Print message to command line\n",
    "    print(\"............\")\n",
    "    print(\"Number of open switches at time\", timestamp, ' is ', len(set(open_switches)))"
   ]
  },
  {
   "cell_type": "code",
   "execution_count": 355,
   "id": "ed7a691c",
   "metadata": {},
   "outputs": [
    {
     "name": "stdout",
     "output_type": "stream",
     "text": [
      "............\n",
      "Number of open switches at time 1640370132  is  0\n",
      "............\n",
      "Number of open switches at time 1640370132  is  0\n",
      "............\n",
      "Number of open switches at time 1640370135  is  0\n",
      "............\n",
      "Number of open switches at time 1640370135  is  0\n",
      "............\n",
      "Number of open switches at time 1640370138  is  0\n",
      "............\n",
      "Number of open switches at time 1640370138  is  0\n",
      "............\n",
      "Number of open switches at time 1640370141  is  0\n",
      "............\n",
      "Number of open switches at time 1640370141  is  0\n",
      "............\n",
      "Number of open switches at time 1640370144  is  0\n",
      "............\n",
      "Number of open switches at time 1640370144  is  0\n",
      "............\n",
      "Number of open switches at time 1640370147  is  0\n",
      "............\n",
      "Number of open switches at time 1640370147  is  0\n",
      "............\n",
      "Number of open switches at time 1640370150  is  0\n",
      "............\n",
      "Number of open switches at time 1640370150  is  0\n",
      "............\n",
      "Number of open switches at time 1640370153  is  0\n",
      "............\n",
      "Number of open switches at time 1640370153  is  0\n"
     ]
    }
   ],
   "source": [
    "from gridappsd.topics import simulation_output_topic\n",
    "\n",
    "output_topic = simulation_output_topic(viz_simulation_id)\n",
    "\n",
    "conn_id = gapps.subscribe(output_topic, demoSubscription1)"
   ]
  },
  {
   "cell_type": "markdown",
   "id": "aec68a58",
   "metadata": {},
   "source": [
    "unsubscribing from simulation"
   ]
  },
  {
   "cell_type": "code",
   "execution_count": 351,
   "id": "33b20bc4",
   "metadata": {},
   "outputs": [],
   "source": [
    "gapps.unsubscribe(conn_id)"
   ]
  },
  {
   "cell_type": "markdown",
   "id": "d318dd8c",
   "metadata": {},
   "source": [
    "storing the mrid"
   ]
  },
  {
   "cell_type": "code",
   "execution_count": 330,
   "id": "78e66ff5",
   "metadata": {},
   "outputs": [
    {
     "name": "stdout",
     "output_type": "stream",
     "text": [
      "_7CBC54BB-4A93-410F-AF92-DDA633676AA0\n"
     ]
    }
   ],
   "source": [
    "model_mrid = \"_C1C3E687-6FFD-C753-582B-632A27E28507\"\n",
    "message = {\n",
    "    \"modelId\": model_mrid,\n",
    "    \"requestType\": \"QUERY_OBJECT_DICT\",\n",
    "    \"resultFormat\": \"JSON\",\n",
    "    \"objectType\": \"LoadBreakSwitch\"\n",
    "}\n",
    "\n",
    "response_obj = gapps.get_response(t.REQUEST_POWERGRID_DATA, message)\n",
    "switch_dict = response_obj[\"data\"]\n",
    "# print(switch_dict)\n",
    "sw_mrid=''\n",
    "\n",
    "for index in switch_dict:\n",
    "    if index[\"IdentifiedObject.name\"] == 'sw1':\n",
    "        sw_mrid = index[\"IdentifiedObject.mRID\"]\n",
    "print(sw_mrid)"
   ]
  },
  {
   "cell_type": "markdown",
   "id": "41164119",
   "metadata": {},
   "source": [
    "publishing inputs to the sim using DifferenceBuilder"
   ]
  },
  {
   "cell_type": "code",
   "execution_count": null,
   "id": "a7adf53d",
   "metadata": {
    "scrolled": true
   },
   "outputs": [],
   "source": [
    "import time\n",
    "from gridappsd import DifferenceBuilder\n",
    "input_topic = simulation_input_topic(viz_simulation_id)\n",
    "\n",
    "model_mrid = \"_C1C3E687-6FFD-C753-582B-632A27E28507\" # model mrid of IEEE123 sim\n",
    "\n",
    "my_open_diff = DifferenceBuilder(viz_simulation_id)\n",
    "my_open_diff.add_difference(sw_mrid, \"Switch.open\", 1, 0) # Open switch given by sw_mrid\n",
    "open_message = my_open_diff.get_message()\n",
    "gapps.send(input_topic, open_message)\n",
    "\n",
    "# time.sleep(10)\n",
    "\n",
    "# my_close_diff = DifferenceBuilder(viz_simulation_id)\n",
    "# my_close_diff.add_difference(sw_mrid, \"Switch.open\", 0, 1) # Close switch given by sw_mrid\n",
    "# close_message = my_close_diff.get_message()\n",
    "# gapps.send(input_topic, close_message)\n"
   ]
  },
  {
   "cell_type": "markdown",
   "id": "86ca3c63",
   "metadata": {},
   "source": [
    "input using mesages"
   ]
  },
  {
   "cell_type": "code",
   "execution_count": null,
   "id": "19a47a81",
   "metadata": {},
   "outputs": [],
   "source": [
    "input_topic = simulation_input_topic(viz_simulation_id)\n",
    "message = {\n",
    "  \"command\": \"update\",\n",
    "  \"input\": {\n",
    "      \"simulation_id\": str(viz_simulation_id),\n",
    "      \"message\": {\n",
    "          \"timestamp\": int(time.time()),\n",
    "          \"difference_mrid\": \"_abcd1234\",\n",
    "          \"reverse_differences\": [{\n",
    "\n",
    "                  \"object\": sw_mrid,\n",
    "                  \"attribute\": \"Switch.open\",\n",
    "                  \"value\": 1\n",
    "              }\n",
    "          ],\n",
    "          \"forward_differences\": [{\n",
    "\n",
    "                  \"object\": sw_mrid,\n",
    "                  \"attribute\": \"Switch.open\",\n",
    "                  \"value\": 0\n",
    "              }\n",
    "              ]\n",
    "              }\n",
    "      }\n",
    "}\n",
    "gapps.send(input_topic, message)\n",
    "time.sleep(1)\n",
    "message = {\n",
    "    \"modelId\": model_mrid,\n",
    "    \"requestType\": \"QUERY_OBJECT_DICT\",\n",
    "    \"resultFormat\": \"JSON\",\n",
    "    \"objectType\": \"LoadBreakSwitch\"\n",
    "}\n",
    "response_obj = gapps.get_response(t.REQUEST_POWERGRID_DATA, message)\n",
    "switch_dict = response_obj[\"data\"]\n",
    "for index in switch_dict:\n",
    "    if index[\"IdentifiedObject.name\"] == 'sw1':\n",
    "        print(index)\n",
    "\n"
   ]
  },
  {
   "cell_type": "markdown",
   "id": "873fd443",
   "metadata": {},
   "source": [
    "inputs for capacitors"
   ]
  },
  {
   "cell_type": "code",
   "execution_count": 293,
   "id": "d80528d4",
   "metadata": {},
   "outputs": [
    {
     "name": "stdout",
     "output_type": "stream",
     "text": [
      "{'id': '_939CA567-AA3D-4972-AABC-1D0AAF4859FE', 'ConductingEquipment.BaseVoltage': '_C26F5029-D0AF-4301-B8D5-7A9767B95DEE', 'Equipment.EquipmentContainer': '_C1C3E687-6FFD-C753-582B-632A27E28507', 'IdentifiedObject.mRID': '_939CA567-AA3D-4972-AABC-1D0AAF4859FE', 'IdentifiedObject.name': 'c92c', 'PowerSystemResource.Location': '_A57616AD-93BB-4B6D-8A7E-743CD74BCE4D', 'LinearShuntCompensator.b0PerSection': '0', 'LinearShuntCompensator.bPerSection': '0.008666106', 'LinearShuntCompensator.g0PerSection': '0', 'LinearShuntCompensator.gPerSection': '0', 'ShuntCompensator.aVRDelay': '0', 'ShuntCompensator.grounded': 'true', 'ShuntCompensator.maximumSections': '1', 'ShuntCompensator.nomU': '2402', 'ShuntCompensator.normalSections': '1', 'ShuntCompensator.phaseConnection': 'PhaseShuntConnectionKind.Y', 'type': 'LinearShuntCompensator'}\n",
      "{'id': '_939CA567-AA3D-4972-AABC-1D0AAF4859FE', 'ConductingEquipment.BaseVoltage': '_C26F5029-D0AF-4301-B8D5-7A9767B95DEE', 'Equipment.EquipmentContainer': '_C1C3E687-6FFD-C753-582B-632A27E28507', 'IdentifiedObject.mRID': '_939CA567-AA3D-4972-AABC-1D0AAF4859FE', 'IdentifiedObject.name': 'c92c', 'PowerSystemResource.Location': '_A57616AD-93BB-4B6D-8A7E-743CD74BCE4D', 'LinearShuntCompensator.b0PerSection': '0', 'LinearShuntCompensator.bPerSection': '0.008666106', 'LinearShuntCompensator.g0PerSection': '0', 'LinearShuntCompensator.gPerSection': '0', 'ShuntCompensator.aVRDelay': '0', 'ShuntCompensator.grounded': 'true', 'ShuntCompensator.maximumSections': '1', 'ShuntCompensator.nomU': '2402', 'ShuntCompensator.normalSections': '1', 'ShuntCompensator.phaseConnection': 'PhaseShuntConnectionKind.Y', 'type': 'LinearShuntCompensator'}\n",
      "{'id': '_939CA567-AA3D-4972-AABC-1D0AAF4859FE', 'ConductingEquipment.BaseVoltage': '_C26F5029-D0AF-4301-B8D5-7A9767B95DEE', 'Equipment.EquipmentContainer': '_C1C3E687-6FFD-C753-582B-632A27E28507', 'IdentifiedObject.mRID': '_939CA567-AA3D-4972-AABC-1D0AAF4859FE', 'IdentifiedObject.name': 'c92c', 'PowerSystemResource.Location': '_A57616AD-93BB-4B6D-8A7E-743CD74BCE4D', 'LinearShuntCompensator.b0PerSection': '0', 'LinearShuntCompensator.bPerSection': '0.008666106', 'LinearShuntCompensator.g0PerSection': '0', 'LinearShuntCompensator.gPerSection': '0', 'ShuntCompensator.aVRDelay': '0', 'ShuntCompensator.grounded': 'true', 'ShuntCompensator.maximumSections': '1', 'ShuntCompensator.nomU': '2402', 'ShuntCompensator.normalSections': '1', 'ShuntCompensator.phaseConnection': 'PhaseShuntConnectionKind.Y', 'type': 'LinearShuntCompensator'}\n",
      "{'id': '_939CA567-AA3D-4972-AABC-1D0AAF4859FE', 'ConductingEquipment.BaseVoltage': '_C26F5029-D0AF-4301-B8D5-7A9767B95DEE', 'Equipment.EquipmentContainer': '_C1C3E687-6FFD-C753-582B-632A27E28507', 'IdentifiedObject.mRID': '_939CA567-AA3D-4972-AABC-1D0AAF4859FE', 'IdentifiedObject.name': 'c92c', 'PowerSystemResource.Location': '_A57616AD-93BB-4B6D-8A7E-743CD74BCE4D', 'LinearShuntCompensator.b0PerSection': '0', 'LinearShuntCompensator.bPerSection': '0.008666106', 'LinearShuntCompensator.g0PerSection': '0', 'LinearShuntCompensator.gPerSection': '0', 'ShuntCompensator.aVRDelay': '0', 'ShuntCompensator.grounded': 'true', 'ShuntCompensator.maximumSections': '1', 'ShuntCompensator.nomU': '2402', 'ShuntCompensator.normalSections': '1', 'ShuntCompensator.phaseConnection': 'PhaseShuntConnectionKind.Y', 'type': 'LinearShuntCompensator'}\n"
     ]
    },
    {
     "ename": "KeyboardInterrupt",
     "evalue": "",
     "output_type": "error",
     "traceback": [
      "\u001b[1;31m---------------------------------------------------------------------------\u001b[0m",
      "\u001b[1;31mKeyboardInterrupt\u001b[0m                         Traceback (most recent call last)",
      "\u001b[1;32m~\\AppData\\Local\\Temp/ipykernel_2724/1535789812.py\u001b[0m in \u001b[0;36m<module>\u001b[1;34m\u001b[0m\n\u001b[0;32m      6\u001b[0m }\n\u001b[0;32m      7\u001b[0m \u001b[1;32mwhile\u001b[0m \u001b[1;32mTrue\u001b[0m\u001b[1;33m:\u001b[0m\u001b[1;33m\u001b[0m\u001b[1;33m\u001b[0m\u001b[0m\n\u001b[1;32m----> 8\u001b[1;33m     \u001b[0mtime\u001b[0m\u001b[1;33m.\u001b[0m\u001b[0msleep\u001b[0m\u001b[1;33m(\u001b[0m\u001b[1;36m2\u001b[0m\u001b[1;33m)\u001b[0m\u001b[1;33m\u001b[0m\u001b[1;33m\u001b[0m\u001b[0m\n\u001b[0m\u001b[0;32m      9\u001b[0m     \u001b[0mresponse_obj\u001b[0m \u001b[1;33m=\u001b[0m \u001b[0mgapps\u001b[0m\u001b[1;33m.\u001b[0m\u001b[0mget_response\u001b[0m\u001b[1;33m(\u001b[0m\u001b[0mt\u001b[0m\u001b[1;33m.\u001b[0m\u001b[0mREQUEST_POWERGRID_DATA\u001b[0m\u001b[1;33m,\u001b[0m \u001b[0mmessage\u001b[0m\u001b[1;33m)\u001b[0m\u001b[1;33m\u001b[0m\u001b[1;33m\u001b[0m\u001b[0m\n\u001b[0;32m     10\u001b[0m \u001b[1;31m#     print(response_obj)\u001b[0m\u001b[1;33m\u001b[0m\u001b[1;33m\u001b[0m\u001b[1;33m\u001b[0m\u001b[0m\n",
      "\u001b[1;31mKeyboardInterrupt\u001b[0m: "
     ]
    }
   ],
   "source": [
    "\n",
    "message = {\n",
    "    \"modelId\": model_mrid,\n",
    "    \"requestType\": \"QUERY_OBJECT_DICT\",\n",
    "    \"resultFormat\": \"JSON\",\n",
    "    \"objectType\": \"LinearShuntCompensator\"\n",
    "}\n",
    "while True:\n",
    "    time.sleep(2)\n",
    "    response_obj = gapps.get_response(t.REQUEST_POWERGRID_DATA, message)\n",
    "#     print(response_obj)\n",
    "    cap_dict = response_obj[\"data\"]\n",
    "    for index in cap_dict:\n",
    "        if index['IdentifiedObject.name'] == 'c92c':\n",
    "            print(index, index[\"ShuntCompensator.sections\"])\n",
    "\n"
   ]
  },
  {
   "cell_type": "markdown",
   "id": "181194f6",
   "metadata": {},
   "source": []
  },
  {
   "cell_type": "raw",
   "id": "dab29ffe",
   "metadata": {},
   "source": []
  }
 ],
 "metadata": {
  "kernelspec": {
   "display_name": "Python 3 (ipykernel)",
   "language": "python",
   "name": "python3"
  },
  "language_info": {
   "codemirror_mode": {
    "name": "ipython",
    "version": 3
   },
   "file_extension": ".py",
   "mimetype": "text/x-python",
   "name": "python",
   "nbconvert_exporter": "python",
   "pygments_lexer": "ipython3",
   "version": "3.9.5"
  }
 },
 "nbformat": 4,
 "nbformat_minor": 5
}
