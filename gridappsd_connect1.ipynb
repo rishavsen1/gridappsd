{
 "cells": [
  {
   "cell_type": "code",
   "execution_count": 217,
   "id": "f1c88c6b",
   "metadata": {},
   "outputs": [],
   "source": [
    "import json\n",
    "from gridappsd.simulation import Simulation # Import Simulation Library\n",
    "from gridappsd import GridAPPSD\n",
    "import time\n",
    "from gridappsd.topics import simulation_input_topic\n",
    "from gridappsd import topics as t\n"
   ]
  },
  {
   "cell_type": "code",
   "execution_count": 286,
   "id": "b5e496f1",
   "metadata": {},
   "outputs": [],
   "source": [
    "username = \"system\"\n",
    "password = \"manager\"\n",
    "\n",
    "# Note: there are other parameters for connecting to\n",
    "# systems other than localhost\n",
    "gapps = GridAPPSD(username=username, password=password)\n"
   ]
  },
  {
   "cell_type": "code",
   "execution_count": null,
   "id": "b2209292",
   "metadata": {},
   "outputs": [],
   "source": []
  },
  {
   "cell_type": "code",
   "execution_count": 294,
   "id": "3365907b",
   "metadata": {},
   "outputs": [
    
   ],
   "source": [
    "assert gapps.connected"
   ]
  },
  {
   "cell_type": "markdown",
   "id": "2821e741",
   "metadata": {},
   "source": [
    "adding the run_config for simulation setup"
   ]
  },
  {
   "cell_type": "code",
   "execution_count": 204,
   "id": "0789933c",
   "metadata": {},
   "outputs": [],
   "source": [
    "run123_config = json.load(open(\"Run123NodeFileSimAPI.json\")) # Pull simulation start message from saved file"
   ]
  },
  {
   "cell_type": "code",
   "execution_count": 205,
   "id": "a9a2df43",
   "metadata": {},
   "outputs": [
    {
     "name": "stdout",
     "output_type": "stream",
     "text": [
      "Successfully started simulation with simulation_id:  1835457202\n"
     ]
    }
   ],
   "source": [
    "simulation_obj = Simulation(gapps, run123_config) # Create Simulation object\n",
    "simulation_obj.start_simulation() # Start Simulation\n",
    "\n",
    "simulation_id = simulation_obj.simulation_id # Obtain Simulation ID\n",
    "print(\"Successfully started simulation with simulation_id: \", simulation_id)"
   ]
  },
  {
   "cell_type": "code",
   "execution_count": null,
   "id": "909d8cdb",
   "metadata": {},
   "outputs": [],
   "source": []
  },
  {
   "cell_type": "code",
   "execution_count": 295,
   "id": "f7659706",
   "metadata": {},
   "outputs": [],
   "source": [
    "# viz_simulation_id = simulation_id\n",
    "viz_simulation_id = 630339820\n",
    "topic = simulation_input_topic(viz_simulation_id)\n"
   ]
  },
  {
   "cell_type": "markdown",
   "id": "a6ab1a0d",
   "metadata": {},
   "source": [
    "start, stop or resume"
   ]
  },
  {
   "cell_type": "code",
   "execution_count": 134,
   "id": "b22369e3",
   "metadata": {},
   "outputs": [
    {
     "name": "stdout",
     "output_type": "stream",
     "text": [
      "2\n"
     ]
    }
   ],
   "source": [
    "ch = int(input())\n",
    "if ch == 1:\n",
    "    message = {\"command\": \"pause\"}\n",
    "    gapps.send(topic, message)\n",
    "elif ch == 2:\n",
    "    message = {\"command\": \"resume\"}\n",
    "    gapps.send(topic, message)\n",
    "elif ch == 3:\n",
    "    message = {\"command\": \"stop\"}\n",
    "    gapps.send(topic, message)\n",
    "\n",
    "else:\n",
    "    exit()"
   ]
  },
  {
   "cell_type": "markdown",
   "id": "fd2cd054",
   "metadata": {},
   "source": [
    "Taking Measurements "
   ]
  },
  {
   "cell_type": "code",
   "execution_count": 262,
   "id": "081084a7",
   "metadata": {},
   "outputs": [
    {
     "name": "stdout",
     "output_type": "stream",
     "text": [
      "[{'measid': '_04be471a-1e78-49d2-8890-ce5d7c4ed157', 'type': 'Pos', 'class': 'Discrete', 'name': 'LoadBreakSwitch_sw1_State', 'bus': '150r', 'phases': 'A', 'eqtype': 'LoadBreakSwitch', 'eqname': 'sw1', 'eqid': '_7CBC54BB-4A93-410F-AF92-DDA633676AA0', 'trmid': '_1F8A4048-225B-431F-8470-BF55B5446154'}, {'measid': '_8f095042-0c9d-46e2-b191-d4380d922f12', 'type': 'Pos', 'class': 'Discrete', 'name': 'LoadBreakSwitch_sw1_State', 'bus': '150r', 'phases': 'B', 'eqtype': 'LoadBreakSwitch', 'eqname': 'sw1', 'eqid': '_7CBC54BB-4A93-410F-AF92-DDA633676AA0', 'trmid': '_1F8A4048-225B-431F-8470-BF55B5446154'}, {'measid': '_ecb52ca4-2a05-4ca4-82f4-53ad8266809d', 'type': 'Pos', 'class': 'Discrete', 'name': 'LoadBreakSwitch_sw1_State', 'bus': '150r', 'phases': 'C', 'eqtype': 'LoadBreakSwitch', 'eqname': 'sw1', 'eqid': '_7CBC54BB-4A93-410F-AF92-DDA633676AA0', 'trmid': '_1F8A4048-225B-431F-8470-BF55B5446154'}, {'measid': '_8f5f2f44-b2e1-4695-a33c-8e4a99863a5a', 'type': 'Pos', 'class': 'Discrete', 'name': 'LoadBreakSwitch_sw2_State', 'bus': '13', 'phases': 'A', 'eqtype': 'LoadBreakSwitch', 'eqname': 'sw2', 'eqid': '_6C1FDA90-1F4E-4716-BC90-1CCB59A6D5A9', 'trmid': '_1B35FA5C-BEF4-4FE7-9C4B-EFF989A71127'}, {'measid': '_c3e95bd8-37be-4f91-9ac6-7b7c7dd39b60', 'type': 'Pos', 'class': 'Discrete', 'name': 'LoadBreakSwitch_sw2_State', 'bus': '13', 'phases': 'B', 'eqtype': 'LoadBreakSwitch', 'eqname': 'sw2', 'eqid': '_6C1FDA90-1F4E-4716-BC90-1CCB59A6D5A9', 'trmid': '_1B35FA5C-BEF4-4FE7-9C4B-EFF989A71127'}, {'measid': '_e7eebd56-c195-4505-9167-4177efac48b9', 'type': 'Pos', 'class': 'Discrete', 'name': 'LoadBreakSwitch_sw2_State', 'bus': '13', 'phases': 'C', 'eqtype': 'LoadBreakSwitch', 'eqname': 'sw2', 'eqid': '_6C1FDA90-1F4E-4716-BC90-1CCB59A6D5A9', 'trmid': '_1B35FA5C-BEF4-4FE7-9C4B-EFF989A71127'}, {'measid': '_a362a289-1a91-4739-a55a-eb36f58c7324', 'type': 'Pos', 'class': 'Discrete', 'name': 'LoadBreakSwitch_sw3_State', 'bus': '18', 'phases': 'A', 'eqtype': 'LoadBreakSwitch', 'eqname': 'sw3', 'eqid': '_C0E08600-353A-425F-8120-4D0DA40BEA29', 'trmid': '_46F85CA1-7A7A-4AE4-BA66-FF6ED8C80DE3'}, {'measid': '_b72b9235-d1dc-4298-ac17-332a4d901d31', 'type': 'Pos', 'class': 'Discrete', 'name': 'LoadBreakSwitch_sw3_State', 'bus': '18', 'phases': 'B', 'eqtype': 'LoadBreakSwitch', 'eqname': 'sw3', 'eqid': '_C0E08600-353A-425F-8120-4D0DA40BEA29', 'trmid': '_46F85CA1-7A7A-4AE4-BA66-FF6ED8C80DE3'}, {'measid': '_d6ed25ab-2df0-4bc4-9c65-41110d4210a9', 'type': 'Pos', 'class': 'Discrete', 'name': 'LoadBreakSwitch_sw3_State', 'bus': '18', 'phases': 'C', 'eqtype': 'LoadBreakSwitch', 'eqname': 'sw3', 'eqid': '_C0E08600-353A-425F-8120-4D0DA40BEA29', 'trmid': '_46F85CA1-7A7A-4AE4-BA66-FF6ED8C80DE3'}, {'measid': '_51ad3195-dee9-41a4-b2d9-efa22d781d1d', 'type': 'Pos', 'class': 'Discrete', 'name': 'LoadBreakSwitch_sw4_State', 'bus': '60', 'phases': 'C', 'eqtype': 'LoadBreakSwitch', 'eqname': 'sw4', 'eqid': '_BC63E102-37AD-4269-BB19-8351403B9B60', 'trmid': '_DBE9EEE6-93F7-4C34-ADA0-E584D314A424'}, {'measid': '_e70325e0-8098-4e29-902f-925540944fee', 'type': 'Pos', 'class': 'Discrete', 'name': 'LoadBreakSwitch_sw4_State', 'bus': '60', 'phases': 'B', 'eqtype': 'LoadBreakSwitch', 'eqname': 'sw4', 'eqid': '_BC63E102-37AD-4269-BB19-8351403B9B60', 'trmid': '_DBE9EEE6-93F7-4C34-ADA0-E584D314A424'}, {'measid': '_f6cf7148-40df-4578-a662-8112e8b22896', 'type': 'Pos', 'class': 'Discrete', 'name': 'LoadBreakSwitch_sw4_State', 'bus': '60', 'phases': 'A', 'eqtype': 'LoadBreakSwitch', 'eqname': 'sw4', 'eqid': '_BC63E102-37AD-4269-BB19-8351403B9B60', 'trmid': '_DBE9EEE6-93F7-4C34-ADA0-E584D314A424'}, {'measid': '_36fb0c26-7dcd-4360-8f25-4f8e88315b68', 'type': 'Pos', 'class': 'Discrete', 'name': 'LoadBreakSwitch_sw5_State', 'bus': '97', 'phases': 'B', 'eqtype': 'LoadBreakSwitch', 'eqname': 'sw5', 'eqid': '_BF5475DE-062E-43B6-8671-8A2EAA5737EE', 'trmid': '_140B9D25-89D7-4089-86F4-36FF30C22D0E'}, {'measid': '_774d6503-eb7d-448c-88b4-33c0b7a4f02b', 'type': 'Pos', 'class': 'Discrete', 'name': 'LoadBreakSwitch_sw5_State', 'bus': '97', 'phases': 'C', 'eqtype': 'LoadBreakSwitch', 'eqname': 'sw5', 'eqid': '_BF5475DE-062E-43B6-8671-8A2EAA5737EE', 'trmid': '_140B9D25-89D7-4089-86F4-36FF30C22D0E'}, {'measid': '_8fee9576-75fa-4337-a623-9cbef4ca3555', 'type': 'Pos', 'class': 'Discrete', 'name': 'LoadBreakSwitch_sw5_State', 'bus': '97', 'phases': 'A', 'eqtype': 'LoadBreakSwitch', 'eqname': 'sw5', 'eqid': '_BF5475DE-062E-43B6-8671-8A2EAA5737EE', 'trmid': '_140B9D25-89D7-4089-86F4-36FF30C22D0E'}, {'measid': '_1d427ffe-6058-4752-84e2-7e864536c9df', 'type': 'Pos', 'class': 'Discrete', 'name': 'LoadBreakSwitch_sw6_State', 'bus': '61', 'phases': 'B', 'eqtype': 'LoadBreakSwitch', 'eqname': 'sw6', 'eqid': '_C4486A70-BD65-4535-B8A1-B255CED67606', 'trmid': '_AFD350AB-F0E1-4F83-9CA2-B104E0044251'}, {'measid': '_3ff08290-5020-43cd-a46d-a29e7bd25944', 'type': 'Pos', 'class': 'Discrete', 'name': 'LoadBreakSwitch_sw6_State', 'bus': '61', 'phases': 'A', 'eqtype': 'LoadBreakSwitch', 'eqname': 'sw6', 'eqid': '_C4486A70-BD65-4535-B8A1-B255CED67606', 'trmid': '_AFD350AB-F0E1-4F83-9CA2-B104E0044251'}, {'measid': '_473f0b1c-de1f-4dbf-b8ac-de3a24dfae0a', 'type': 'Pos', 'class': 'Discrete', 'name': 'LoadBreakSwitch_sw6_State', 'bus': '61', 'phases': 'C', 'eqtype': 'LoadBreakSwitch', 'eqname': 'sw6', 'eqid': '_C4486A70-BD65-4535-B8A1-B255CED67606', 'trmid': '_AFD350AB-F0E1-4F83-9CA2-B104E0044251'}, {'measid': '_26b179a9-6148-4db8-a6a3-50d37d375575', 'type': 'Pos', 'class': 'Discrete', 'name': 'LoadBreakSwitch_sw7_State', 'bus': '151', 'phases': 'B', 'eqtype': 'LoadBreakSwitch', 'eqname': 'sw7', 'eqid': '_7262F9C3-2E8B-4069-AA13-BF4A655ACE35', 'trmid': '_3A16C211-B666-44F0-80AE-AE8A395080A7'}, {'measid': '_451842ba-a969-4143-ac69-f8642899305e', 'type': 'Pos', 'class': 'Discrete', 'name': 'LoadBreakSwitch_sw7_State', 'bus': '151', 'phases': 'A', 'eqtype': 'LoadBreakSwitch', 'eqname': 'sw7', 'eqid': '_7262F9C3-2E8B-4069-AA13-BF4A655ACE35', 'trmid': '_3A16C211-B666-44F0-80AE-AE8A395080A7'}, {'measid': '_6e7d8f9f-2f1d-47fd-9b60-b52132ac5c0b', 'type': 'Pos', 'class': 'Discrete', 'name': 'LoadBreakSwitch_sw7_State', 'bus': '151', 'phases': 'C', 'eqtype': 'LoadBreakSwitch', 'eqname': 'sw7', 'eqid': '_7262F9C3-2E8B-4069-AA13-BF4A655ACE35', 'trmid': '_3A16C211-B666-44F0-80AE-AE8A395080A7'}, {'measid': '_711964e8-3a55-4e39-89b1-58e2155584a3', 'type': 'Pos', 'class': 'Discrete', 'name': 'LoadBreakSwitch_sw8_State', 'bus': '54', 'phases': 'A', 'eqtype': 'LoadBreakSwitch', 'eqname': 'sw8', 'eqid': '_382F5D22-0DB5-4F62-8011-D5D522A45141', 'trmid': '_D2393A51-9664-41B7-B23D-BA05B045A7F8'}]\n"
     ]
    }
   ],
   "source": [
    "message = {\n",
    "    \"modelId\": model_mrid,\n",
    "    \"requestType\": \"QUERY_OBJECT_MEASUREMENTS\",\n",
    "    \"resultFormat\": \"JSON\",\n",
    "    \"objectType\": \"LoadBreakSwitch\"\n",
    "}\n",
    "\n",
    "response_obj = gapps.get_response(t.REQUEST_POWERGRID_DATA, message) # Pass query to PowerGrid Models API\n",
    "measurements_obj = response_obj[\"data\"]\n",
    "\n",
    "global Pos_obj # Define global python dictionary of position measurements\n",
    "Pos_obj = [k for k in measurements_obj if k['type'] == 'Pos'] # Filter measurements to just switch positions\n",
    "\n",
    "print(Pos_obj) # Print switch position measurement mRID for first switch"
   ]
  },
  {
   "cell_type": "code",
   "execution_count": 297,
   "id": "189597c5",
   "metadata": {},
   "outputs": [
    
   ],
   "source": [
    "# Use queryFilter of \"startTime\" and \"endTime\"\n",
    "message = {\n",
    "    \"queryMeasurement\":\"weather\",\n",
    "    \"queryFilter\":{\"startTime\":\"1357048800000000\",\n",
    "                   \"endTime\":\"1357048860000000\"},\n",
    "    \"responseFormat\":\"JSON\"\n",
    "}\n",
    "\n",
    "response_obj = gapps.get_response(t.TIMESERIES, message) # Pass query to Timeseries API\n",
    "weather_obj = response_obj[\"data\"]\n",
    "\n",
    "print(weather_obj[1]) # Print first line of weather data"
   ]
  },
  {
   "cell_type": "markdown",
   "id": "6afb19de",
   "metadata": {},
   "source": [
    "subscribing to output"
   ]
  },
  {
   "cell_type": "code",
   "execution_count": 272,
   "id": "a69d6f43",
   "metadata": {},
   "outputs": [],
   "source": [
    "def demoSubscription1(header, message):\n",
    "    # Extract time and measurement values from message\n",
    "    timestamp = message[\"message\"][\"timestamp\"]\n",
    "    meas_value = message[\"message\"][\"measurements\"]\n",
    "\n",
    "    meas_mrid = list(meas_value.keys()) #obtain list of all mrid from message\n",
    "\n",
    "    # Filter to measurements with value of zero\n",
    "    open_switches = []\n",
    "    for index in Pos_obj:\n",
    "        if index[\"measid\"] in meas_value:\n",
    "            mrid = index[\"measid\"]\n",
    "            power = meas_value[mrid]\n",
    "            if power[\"value\"] == 0:\n",
    "                open_switches.append(index[\"eqname\"])\n",
    "\n",
    "    # Print message to command line\n",
    "    print(\"............\")\n",
    "    print(\"Number of open switches at time\", timestamp, ' is ', len(set(open_switches)))"
   ]
  },
  {
   "cell_type": "code",
   "execution_count": 299,
   "id": "04247360",
   "metadata": {},
   "outputs": [
    
   ],
   "source": [
    "from gridappsd.topics import simulation_output_topic\n",
    "\n",
    "output_topic = simulation_output_topic(viz_simulation_id)\n",
    "\n",
    "gapps.subscribe(output_topic, demoSubscription1)"
   ]
  },
  {
   "cell_type": "markdown",
   "id": "b6b10848",
   "metadata": {},
   "source": [
    "storing the mrid"
   ]
  },
  {
   "cell_type": "code",
   "execution_count": 300,
   "id": "6fa751ab",
   "metadata": {},
   "outputs": [
    
   ],
   "source": [
    "model_mrid = \"_C1C3E687-6FFD-C753-582B-632A27E28507\"\n",
    "message = {\n",
    "    \"modelId\": model_mrid,\n",
    "    \"requestType\": \"QUERY_OBJECT_DICT\",\n",
    "    \"resultFormat\": \"JSON\",\n",
    "    \"objectType\": \"LoadBreakSwitch\"\n",
    "}\n",
    "\n",
    "response_obj = gapps.get_response(t.REQUEST_POWERGRID_DATA, message)\n",
    "switch_dict = response_obj[\"data\"]\n",
    "# print(switch_dict)\n",
    "sw_mrid=''\n",
    "\n",
    "for index in switch_dict:\n",
    "    if index[\"IdentifiedObject.name\"] == 'sw1':\n",
    "        sw_mrid = index[\"IdentifiedObject.mRID\"]\n",
    "print(sw_mrid)"
   ]
  },
  {
   "cell_type": "markdown",
   "id": "ae19a67c",
   "metadata": {},
   "source": [
    "publishing inputs to the sim"
   ]
  },
  {
   "cell_type": "code",
   "execution_count": 302,
   "id": "b35ffb15",
   "metadata": {
    "scrolled": true
   },
   "outputs": [
    
   ],
   "source": [
    "import time\n",
    "from gridappsd import DifferenceBuilder\n",
    "input_topic = simulation_input_topic(viz_simulation_id)\n",
    "\n",
    "model_mrid = \"_C1C3E687-6FFD-C753-582B-632A27E28507\" # model mrid of IEEE123 sim\n",
    "\n",
    "my_open_diff = DifferenceBuilder(viz_simulation_id)\n",
    "my_open_diff.add_difference(sw_mrid, \"Switch.open\", 1, 0) # Open switch given by sw_mrid\n",
    "open_message = my_open_diff.get_message()\n",
    "gapps.send(input_topic, open_message)\n",
    "\n",
    "time.sleep(2)\n",
    "\n",
    "my_close_diff = DifferenceBuilder(viz_simulation_id)\n",
    "my_close_diff.add_difference(sw_mrid, \"Switch.open\", 0, 1) # Close switch given by sw_mrid\n",
    "close_message = my_close_diff.get_message()\n",
    "gapps.send(input_topic, close_message)\n"
   ]
  },
  {
   "cell_type": "markdown",
   "id": "9c0bd39e",
   "metadata": {},
   "source": [
    "input using mesages"
   ]
  },
  {
   "cell_type": "code",
   "execution_count": 301,
   "id": "f2f74f11",
   "metadata": {},
   "outputs": [
    
   ],
   "source": [
    "input_topic = simulation_input_topic(viz_simulation_id)\n",
    "message = {\n",
    "  \"command\": \"update\",\n",
    "  \"input\": {\n",
    "      \"simulation_id\": str(viz_simulation_id),\n",
    "      \"message\": {\n",
    "          \"timestamp\": int(time.time()),\n",
    "          \"difference_mrid\": \"_abcd1234\",\n",
    "          \"reverse_differences\": [{\n",
    "\n",
    "                  \"object\": sw_mrid,\n",
    "                  \"attribute\": \"Switch.open\",\n",
    "                  \"value\": 1\n",
    "              }\n",
    "          ],\n",
    "          \"forward_differences\": [{\n",
    "\n",
    "                  \"object\": sw_mrid,\n",
    "                  \"attribute\": \"Switch.open\",\n",
    "                  \"value\": 0\n",
    "              }\n",
    "              ]\n",
    "              }\n",
    "      }\n",
    "}\n",
    "gapps.send(input_topic, message)\n",
    "time.sleep(1)\n",
    "message = {\n",
    "    \"modelId\": model_mrid,\n",
    "    \"requestType\": \"QUERY_OBJECT_DICT\",\n",
    "    \"resultFormat\": \"JSON\",\n",
    "    \"objectType\": \"LoadBreakSwitch\"\n",
    "}\n",
    "response_obj = gapps.get_response(t.REQUEST_POWERGRID_DATA, message)\n",
    "switch_dict = response_obj[\"data\"]\n",
    "for index in switch_dict:\n",
    "    if index[\"IdentifiedObject.name\"] == 'sw1':\n",
    "        print(index)\n",
    "\n"
   ]
  },
  {
   "cell_type": "code",
   "execution_count": 293,
   "id": "80841885",
   "metadata": {},
   "outputs": [
    {
     "name": "stdout",
     "output_type": "stream",
     "text": [
      "{'id': '_939CA567-AA3D-4972-AABC-1D0AAF4859FE', 'ConductingEquipment.BaseVoltage': '_C26F5029-D0AF-4301-B8D5-7A9767B95DEE', 'Equipment.EquipmentContainer': '_C1C3E687-6FFD-C753-582B-632A27E28507', 'IdentifiedObject.mRID': '_939CA567-AA3D-4972-AABC-1D0AAF4859FE', 'IdentifiedObject.name': 'c92c', 'PowerSystemResource.Location': '_A57616AD-93BB-4B6D-8A7E-743CD74BCE4D', 'LinearShuntCompensator.b0PerSection': '0', 'LinearShuntCompensator.bPerSection': '0.008666106', 'LinearShuntCompensator.g0PerSection': '0', 'LinearShuntCompensator.gPerSection': '0', 'ShuntCompensator.aVRDelay': '0', 'ShuntCompensator.grounded': 'true', 'ShuntCompensator.maximumSections': '1', 'ShuntCompensator.nomU': '2402', 'ShuntCompensator.normalSections': '1', 'ShuntCompensator.phaseConnection': 'PhaseShuntConnectionKind.Y', 'type': 'LinearShuntCompensator'}\n",
      "{'id': '_939CA567-AA3D-4972-AABC-1D0AAF4859FE', 'ConductingEquipment.BaseVoltage': '_C26F5029-D0AF-4301-B8D5-7A9767B95DEE', 'Equipment.EquipmentContainer': '_C1C3E687-6FFD-C753-582B-632A27E28507', 'IdentifiedObject.mRID': '_939CA567-AA3D-4972-AABC-1D0AAF4859FE', 'IdentifiedObject.name': 'c92c', 'PowerSystemResource.Location': '_A57616AD-93BB-4B6D-8A7E-743CD74BCE4D', 'LinearShuntCompensator.b0PerSection': '0', 'LinearShuntCompensator.bPerSection': '0.008666106', 'LinearShuntCompensator.g0PerSection': '0', 'LinearShuntCompensator.gPerSection': '0', 'ShuntCompensator.aVRDelay': '0', 'ShuntCompensator.grounded': 'true', 'ShuntCompensator.maximumSections': '1', 'ShuntCompensator.nomU': '2402', 'ShuntCompensator.normalSections': '1', 'ShuntCompensator.phaseConnection': 'PhaseShuntConnectionKind.Y', 'type': 'LinearShuntCompensator'}\n",
      "{'id': '_939CA567-AA3D-4972-AABC-1D0AAF4859FE', 'ConductingEquipment.BaseVoltage': '_C26F5029-D0AF-4301-B8D5-7A9767B95DEE', 'Equipment.EquipmentContainer': '_C1C3E687-6FFD-C753-582B-632A27E28507', 'IdentifiedObject.mRID': '_939CA567-AA3D-4972-AABC-1D0AAF4859FE', 'IdentifiedObject.name': 'c92c', 'PowerSystemResource.Location': '_A57616AD-93BB-4B6D-8A7E-743CD74BCE4D', 'LinearShuntCompensator.b0PerSection': '0', 'LinearShuntCompensator.bPerSection': '0.008666106', 'LinearShuntCompensator.g0PerSection': '0', 'LinearShuntCompensator.gPerSection': '0', 'ShuntCompensator.aVRDelay': '0', 'ShuntCompensator.grounded': 'true', 'ShuntCompensator.maximumSections': '1', 'ShuntCompensator.nomU': '2402', 'ShuntCompensator.normalSections': '1', 'ShuntCompensator.phaseConnection': 'PhaseShuntConnectionKind.Y', 'type': 'LinearShuntCompensator'}\n",
      "{'id': '_939CA567-AA3D-4972-AABC-1D0AAF4859FE', 'ConductingEquipment.BaseVoltage': '_C26F5029-D0AF-4301-B8D5-7A9767B95DEE', 'Equipment.EquipmentContainer': '_C1C3E687-6FFD-C753-582B-632A27E28507', 'IdentifiedObject.mRID': '_939CA567-AA3D-4972-AABC-1D0AAF4859FE', 'IdentifiedObject.name': 'c92c', 'PowerSystemResource.Location': '_A57616AD-93BB-4B6D-8A7E-743CD74BCE4D', 'LinearShuntCompensator.b0PerSection': '0', 'LinearShuntCompensator.bPerSection': '0.008666106', 'LinearShuntCompensator.g0PerSection': '0', 'LinearShuntCompensator.gPerSection': '0', 'ShuntCompensator.aVRDelay': '0', 'ShuntCompensator.grounded': 'true', 'ShuntCompensator.maximumSections': '1', 'ShuntCompensator.nomU': '2402', 'ShuntCompensator.normalSections': '1', 'ShuntCompensator.phaseConnection': 'PhaseShuntConnectionKind.Y', 'type': 'LinearShuntCompensator'}\n"
     ]
    },
    
   ],
   "source": [
    "\n",
    "message = {\n",
    "    \"modelId\": model_mrid,\n",
    "    \"requestType\": \"QUERY_OBJECT_DICT\",\n",
    "    \"resultFormat\": \"JSON\",\n",
    "    \"objectType\": \"LinearShuntCompensator\"\n",
    "}\n",
    "while True:\n",
    "    time.sleep(2)\n",
    "    response_obj = gapps.get_response(t.REQUEST_POWERGRID_DATA, message)\n",
    "#     print(response_obj)\n",
    "    cap_dict = response_obj[\"data\"]\n",
    "    for index in cap_dict:\n",
    "        if index['IdentifiedObject.name'] == 'c92c':\n",
    "            print(index, index[\"ShuntCompensator.sections\"])\n",
    "\n"
   ]
  },
  {
   "cell_type": "code",
   "execution_count": null,
   "id": "484385fa",
   "metadata": {},
   "outputs": [],
   "source": []
  }
 ],
 "metadata": {
  "kernelspec": {
   "display_name": "Python 3 (ipykernel)",
   "language": "python",
   "name": "python3"
  },
  "language_info": {
   "codemirror_mode": {
    "name": "ipython",
    "version": 3
   },
   "file_extension": ".py",
   "mimetype": "text/x-python",
   "name": "python",
   "nbconvert_exporter": "python",
   "pygments_lexer": "ipython3",
   "version": "3.9.5"
  }
 },
 "nbformat": 4,
 "nbformat_minor": 5
}
